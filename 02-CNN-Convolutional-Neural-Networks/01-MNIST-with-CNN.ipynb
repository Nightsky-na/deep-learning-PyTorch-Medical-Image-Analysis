{
 "cells": [
  {
   "cell_type": "markdown",
   "metadata": {},
   "source": [
    "# CNN model with MNIST"
   ]
  },
  {
   "cell_type": "markdown",
   "metadata": {},
   "source": [
    "## Get to know with Cov and Pooling"
   ]
  },
  {
   "cell_type": "code",
   "execution_count": 1,
   "metadata": {},
   "outputs": [],
   "source": [
    "import torch\n",
    "import torch.nn as nn\n",
    "import torch.nn.functional as F\n",
    "from torch.utils.data import DataLoader\n",
    "from torchvision import datasets, transforms\n",
    "from torchvision.utils import make_grid\n",
    "\n",
    "import numpy as np\n",
    "import pandas as pd\n",
    "from sklearn.metrics import confusion_matrix\n",
    "import matplotlib.pyplot as plt\n",
    "%matplotlib inline"
   ]
  },
  {
   "cell_type": "code",
   "execution_count": 2,
   "metadata": {},
   "outputs": [],
   "source": [
    "transform = transforms.ToTensor()"
   ]
  },
  {
   "cell_type": "code",
   "execution_count": 3,
   "metadata": {},
   "outputs": [],
   "source": [
    "train_data = datasets.MNIST(root = './Data', train=True,download=True,transform=transform)\n",
    "test_data = datasets.MNIST(root = './Data', train=False,download=True,transform=transform)"
   ]
  },
  {
   "cell_type": "code",
   "execution_count": 4,
   "metadata": {},
   "outputs": [
    {
     "data": {
      "text/plain": [
       "Dataset MNIST\n",
       "    Number of datapoints: 60000\n",
       "    Root location: ./Data\n",
       "    Split: Train\n",
       "    StandardTransform\n",
       "Transform: ToTensor()"
      ]
     },
     "execution_count": 4,
     "metadata": {},
     "output_type": "execute_result"
    }
   ],
   "source": [
    "train_data"
   ]
  },
  {
   "cell_type": "code",
   "execution_count": 5,
   "metadata": {},
   "outputs": [
    {
     "data": {
      "text/plain": [
       "Dataset MNIST\n",
       "    Number of datapoints: 10000\n",
       "    Root location: ./Data\n",
       "    Split: Test\n",
       "    StandardTransform\n",
       "Transform: ToTensor()"
      ]
     },
     "execution_count": 5,
     "metadata": {},
     "output_type": "execute_result"
    }
   ],
   "source": [
    "test_data"
   ]
  },
  {
   "cell_type": "code",
   "execution_count": 6,
   "metadata": {},
   "outputs": [],
   "source": [
    "train_loader = DataLoader(train_data, batch_size=10, shuffle=True)\n",
    "test_loader = DataLoader(test_data, batch_size=10, shuffle=True)"
   ]
  },
  {
   "cell_type": "code",
   "execution_count": 7,
   "metadata": {},
   "outputs": [],
   "source": [
    "# 1 color channel, 6 filters (output chanels), 3by3 lernel, Stride=1\n",
    "# input, output, kernel size, stride \n",
    "conv1 = nn.Conv2d(1,6,3,1) # ---> 6 filters --> pooling ---> conv2\n",
    "\n",
    "# 6 input filter Conv1, 16 filters, kernel size 3 by3, stride=1\n",
    "conv2 = nn.Conv2d(6,16,3,1)"
   ]
  },
  {
   "cell_type": "code",
   "execution_count": 8,
   "metadata": {},
   "outputs": [],
   "source": [
    "for i, (X_train, y_train) in enumerate(train_data):\n",
    "    break"
   ]
  },
  {
   "cell_type": "code",
   "execution_count": 9,
   "metadata": {},
   "outputs": [
    {
     "name": "stdout",
     "output_type": "stream",
     "text": [
      "torch.Size([1, 28, 28])\n",
      "torch.Size([1, 1, 28, 28])\n"
     ]
    }
   ],
   "source": [
    "print(X_train.shape) #----> 4D (batch of 1 image)\n",
    "x = X_train.view(1, 1, 28, 28)\n",
    "print(x.shape) #----> 4D (batch of 1 image)"
   ]
  },
  {
   "cell_type": "code",
   "execution_count": 10,
   "metadata": {},
   "outputs": [],
   "source": [
    "x = F.relu(conv1(x))"
   ]
  },
  {
   "cell_type": "code",
   "execution_count": 11,
   "metadata": {},
   "outputs": [
    {
     "data": {
      "text/plain": [
       "torch.Size([1, 6, 26, 26])"
      ]
     },
     "execution_count": 11,
     "metadata": {},
     "output_type": "execute_result"
    }
   ],
   "source": [
    "x.shape\n",
    "#  1 = image, 6 = filter, 26 26 -> pading = 0 "
   ]
  },
  {
   "cell_type": "code",
   "execution_count": 12,
   "metadata": {},
   "outputs": [
    {
     "data": {
      "text/plain": [
       "torch.Size([1, 6, 13, 13])"
      ]
     },
     "execution_count": 12,
     "metadata": {},
     "output_type": "execute_result"
    }
   ],
   "source": [
    "x = F.max_pool2d(x,2,2)\n",
    "x.shape"
   ]
  },
  {
   "cell_type": "code",
   "execution_count": 13,
   "metadata": {},
   "outputs": [],
   "source": [
    "x = F.relu(conv2(x))"
   ]
  },
  {
   "cell_type": "code",
   "execution_count": 14,
   "metadata": {},
   "outputs": [
    {
     "data": {
      "text/plain": [
       "torch.Size([1, 16, 11, 11])"
      ]
     },
     "execution_count": 14,
     "metadata": {},
     "output_type": "execute_result"
    }
   ],
   "source": [
    "x.shape"
   ]
  },
  {
   "cell_type": "code",
   "execution_count": 15,
   "metadata": {},
   "outputs": [],
   "source": [
    "x = F.max_pool2d(x,2,2)"
   ]
  },
  {
   "cell_type": "code",
   "execution_count": 16,
   "metadata": {},
   "outputs": [
    {
     "data": {
      "text/plain": [
       "torch.Size([1, 16, 5, 5])"
      ]
     },
     "execution_count": 16,
     "metadata": {},
     "output_type": "execute_result"
    }
   ],
   "source": [
    "x.shape #11/2 => 5.5"
   ]
  },
  {
   "cell_type": "code",
   "execution_count": 17,
   "metadata": {},
   "outputs": [
    {
     "data": {
      "text/plain": [
       "5.5"
      ]
     },
     "execution_count": 17,
     "metadata": {},
     "output_type": "execute_result"
    }
   ],
   "source": [
    "((((28-2)/2)-2)/2) # 5.5 => 5"
   ]
  },
  {
   "cell_type": "code",
   "execution_count": 18,
   "metadata": {},
   "outputs": [
    {
     "data": {
      "text/plain": [
       "torch.Size([1, 16, 5, 5])"
      ]
     },
     "execution_count": 18,
     "metadata": {},
     "output_type": "execute_result"
    }
   ],
   "source": [
    "x.shape"
   ]
  },
  {
   "cell_type": "code",
   "execution_count": 19,
   "metadata": {},
   "outputs": [
    {
     "data": {
      "text/plain": [
       "torch.Size([1, 400])"
      ]
     },
     "execution_count": 19,
     "metadata": {},
     "output_type": "execute_result"
    }
   ],
   "source": [
    "x.view(-1,16*5*5).shape\n",
    "# -1 => keep first one"
   ]
  },
  {
   "cell_type": "markdown",
   "metadata": {},
   "source": [
    "----"
   ]
  },
  {
   "cell_type": "markdown",
   "metadata": {},
   "source": [
    "## CNN model "
   ]
  },
  {
   "cell_type": "code",
   "execution_count": 20,
   "metadata": {},
   "outputs": [],
   "source": [
    "class ConvolutionalNetwork(nn.Module):\n",
    "    \"\"\"Some Information about ConvolutionalNetwork\"\"\"\n",
    "    def __init__(self, input_size = 1,output_size=10):\n",
    "        super(ConvolutionalNetwork, self).__init__()\n",
    "        self.conv1 = nn.Conv2d(input_size, 6, 3, 1)\n",
    "        self.conv2 = nn.Conv2d(6, 16, 3,1)\n",
    "        self.fc1 = nn.Linear(5*5*16,120)\n",
    "        self.fc2 = nn.Linear(120, 84)\n",
    "        self.fc3 = nn.Linear(84, output_size)\n",
    "\n",
    "    def forward(self, x):\n",
    "        x = F.relu(self.conv1(x))\n",
    "        x = F.max_pool2d(x,2,2)\n",
    "        x = F.relu(self.conv2(x))\n",
    "        x = F.max_pool2d(x,2,2)\n",
    "        x = x.view(-1,16*5*5)\n",
    "        x = F.relu(self.fc1(x))\n",
    "        x = F.relu(self.fc2(x))\n",
    "        x = self.fc3(x)\n",
    "        return F.log_softmax(x, dim=1)"
   ]
  },
  {
   "cell_type": "code",
   "execution_count": 39,
   "metadata": {},
   "outputs": [
    {
     "data": {
      "text/plain": [
       "ConvolutionalNetwork(\n",
       "  (conv1): Conv2d(1, 6, kernel_size=(3, 3), stride=(1, 1))\n",
       "  (conv2): Conv2d(6, 16, kernel_size=(3, 3), stride=(1, 1))\n",
       "  (fc1): Linear(in_features=400, out_features=120, bias=True)\n",
       "  (fc2): Linear(in_features=120, out_features=84, bias=True)\n",
       "  (fc3): Linear(in_features=84, out_features=10, bias=True)\n",
       ")"
      ]
     },
     "execution_count": 39,
     "metadata": {},
     "output_type": "execute_result"
    }
   ],
   "source": [
    "torch.manual_seed(42)\n",
    "model = ConvolutionalNetwork()\n",
    "model"
   ]
  },
  {
   "cell_type": "code",
   "execution_count": 40,
   "metadata": {},
   "outputs": [
    {
     "name": "stdout",
     "output_type": "stream",
     "text": [
      "54\n",
      "6\n",
      "864\n",
      "16\n",
      "48000\n",
      "120\n",
      "10080\n",
      "84\n",
      "840\n",
      "10\n",
      "Sum param: 60074\n"
     ]
    }
   ],
   "source": [
    "# cal parameter\n",
    "sum_param = 0\n",
    "for param in model.parameters():\n",
    "    sum_param += param.numel()\n",
    "    print(param.numel())\n",
    "\n",
    "print(f'Sum param: {sum_param}')"
   ]
  },
  {
   "cell_type": "code",
   "execution_count": 41,
   "metadata": {},
   "outputs": [],
   "source": [
    "criterion = nn.CrossEntropyLoss()\n",
    "optimizer = torch.optim.Adam(model.parameters(), lr=1e-3)"
   ]
  },
  {
   "cell_type": "code",
   "execution_count": 43,
   "metadata": {},
   "outputs": [
    {
     "name": "stdout",
     "output_type": "stream",
     "text": [
      "Epoch: 1 batch: 600 loss: 0.059 accuracy: 95.817\n",
      "Epoch: 1 batch: 1200 loss: 0.097 accuracy: 96.025\n",
      "Epoch: 1 batch: 1800 loss: 0.022 accuracy: 96.150\n",
      "Epoch: 1 batch: 2400 loss: 0.057 accuracy: 96.371\n",
      "Epoch: 1 batch: 3000 loss: 0.506 accuracy: 96.447\n",
      "Epoch: 1 batch: 3600 loss: 0.531 accuracy: 96.572\n",
      "Epoch: 1 batch: 4200 loss: 0.006 accuracy: 96.702\n",
      "Epoch: 1 batch: 4800 loss: 0.187 accuracy: 96.800\n",
      "Epoch: 1 batch: 5400 loss: 0.000 accuracy: 96.854\n",
      "Epoch: 1 batch: 6000 loss: 0.130 accuracy: 96.933\n",
      "Epoch: 2 batch: 600 loss: 0.002 accuracy: 98.317\n",
      "Epoch: 2 batch: 1200 loss: 0.003 accuracy: 98.183\n",
      "Epoch: 2 batch: 1800 loss: 0.004 accuracy: 98.078\n",
      "Epoch: 2 batch: 2400 loss: 0.002 accuracy: 98.058\n",
      "Epoch: 2 batch: 3000 loss: 0.273 accuracy: 98.000\n",
      "Epoch: 2 batch: 3600 loss: 0.007 accuracy: 98.047\n",
      "Epoch: 2 batch: 4200 loss: 0.061 accuracy: 98.079\n",
      "Epoch: 2 batch: 4800 loss: 0.032 accuracy: 98.110\n",
      "Epoch: 2 batch: 5400 loss: 0.002 accuracy: 98.113\n",
      "Epoch: 2 batch: 6000 loss: 0.000 accuracy: 98.130\n",
      "Epoch: 3 batch: 600 loss: 0.002 accuracy: 98.383\n",
      "Epoch: 3 batch: 1200 loss: 0.000 accuracy: 98.608\n",
      "Epoch: 3 batch: 1800 loss: 0.010 accuracy: 98.606\n",
      "Epoch: 3 batch: 2400 loss: 0.018 accuracy: 98.612\n",
      "Epoch: 3 batch: 3000 loss: 0.032 accuracy: 98.630\n",
      "Epoch: 3 batch: 3600 loss: 0.030 accuracy: 98.628\n",
      "Epoch: 3 batch: 4200 loss: 0.004 accuracy: 98.610\n",
      "Epoch: 3 batch: 4800 loss: 0.729 accuracy: 98.610\n",
      "Epoch: 3 batch: 5400 loss: 0.003 accuracy: 98.622\n",
      "Epoch: 3 batch: 6000 loss: 0.045 accuracy: 98.608\n",
      "Epoch: 4 batch: 600 loss: 0.001 accuracy: 99.033\n",
      "Epoch: 4 batch: 1200 loss: 0.005 accuracy: 99.100\n",
      "Epoch: 4 batch: 1800 loss: 0.016 accuracy: 99.000\n",
      "Epoch: 4 batch: 2400 loss: 0.002 accuracy: 98.979\n",
      "Epoch: 4 batch: 3000 loss: 0.249 accuracy: 98.980\n",
      "Epoch: 4 batch: 3600 loss: 0.004 accuracy: 98.942\n",
      "Epoch: 4 batch: 4200 loss: 0.001 accuracy: 98.957\n",
      "Epoch: 4 batch: 4800 loss: 0.002 accuracy: 98.929\n",
      "Epoch: 4 batch: 5400 loss: 0.000 accuracy: 98.930\n",
      "Epoch: 4 batch: 6000 loss: 0.001 accuracy: 98.933\n",
      "Epoch: 5 batch: 600 loss: 0.004 accuracy: 99.183\n",
      "Epoch: 5 batch: 1200 loss: 0.011 accuracy: 99.175\n",
      "Epoch: 5 batch: 1800 loss: 0.077 accuracy: 99.222\n",
      "Epoch: 5 batch: 2400 loss: 0.006 accuracy: 99.142\n",
      "Epoch: 5 batch: 3000 loss: 0.000 accuracy: 99.127\n",
      "Epoch: 5 batch: 3600 loss: 0.000 accuracy: 99.133\n",
      "Epoch: 5 batch: 4200 loss: 0.004 accuracy: 99.133\n",
      "Epoch: 5 batch: 4800 loss: 0.018 accuracy: 99.123\n",
      "Epoch: 5 batch: 5400 loss: 0.000 accuracy: 99.131\n",
      "Epoch: 5 batch: 6000 loss: 0.001 accuracy: 99.135\n",
      "Epoch: 6 batch: 600 loss: 0.097 accuracy: 99.517\n",
      "Epoch: 6 batch: 1200 loss: 0.003 accuracy: 99.408\n",
      "Epoch: 6 batch: 1800 loss: 0.000 accuracy: 99.417\n",
      "Epoch: 6 batch: 2400 loss: 0.004 accuracy: 99.367\n",
      "Epoch: 6 batch: 3000 loss: 0.000 accuracy: 99.353\n",
      "Epoch: 6 batch: 3600 loss: 0.000 accuracy: 99.344\n",
      "Epoch: 6 batch: 4200 loss: 0.001 accuracy: 99.348\n",
      "Epoch: 6 batch: 4800 loss: 0.006 accuracy: 99.335\n",
      "Epoch: 6 batch: 5400 loss: 0.000 accuracy: 99.306\n",
      "Epoch: 6 batch: 6000 loss: 0.001 accuracy: 99.300\n",
      "Epoch: 7 batch: 600 loss: 0.001 accuracy: 99.583\n",
      "Epoch: 7 batch: 1200 loss: 0.000 accuracy: 99.425\n",
      "Epoch: 7 batch: 1800 loss: 0.000 accuracy: 99.444\n",
      "Epoch: 7 batch: 2400 loss: 0.103 accuracy: 99.438\n",
      "Epoch: 7 batch: 3000 loss: 0.011 accuracy: 99.360\n",
      "Epoch: 7 batch: 3600 loss: 0.021 accuracy: 99.306\n",
      "Epoch: 7 batch: 4200 loss: 0.000 accuracy: 99.302\n",
      "Epoch: 7 batch: 4800 loss: 0.000 accuracy: 99.310\n",
      "Epoch: 7 batch: 5400 loss: 0.026 accuracy: 99.319\n",
      "Epoch: 7 batch: 6000 loss: 0.002 accuracy: 99.282\n",
      "Epoch: 8 batch: 600 loss: 0.001 accuracy: 99.750\n",
      "Epoch: 8 batch: 1200 loss: 0.001 accuracy: 99.658\n",
      "Epoch: 8 batch: 1800 loss: 0.000 accuracy: 99.544\n",
      "Epoch: 8 batch: 2400 loss: 0.001 accuracy: 99.492\n",
      "Epoch: 8 batch: 3000 loss: 0.000 accuracy: 99.510\n",
      "Epoch: 8 batch: 3600 loss: 0.004 accuracy: 99.519\n",
      "Epoch: 8 batch: 4200 loss: 0.000 accuracy: 99.502\n",
      "Epoch: 8 batch: 4800 loss: 0.000 accuracy: 99.485\n",
      "Epoch: 8 batch: 5400 loss: 0.000 accuracy: 99.487\n",
      "Epoch: 8 batch: 6000 loss: 0.022 accuracy: 99.467\n",
      "Epoch: 9 batch: 600 loss: 0.006 accuracy: 99.667\n",
      "Epoch: 9 batch: 1200 loss: 0.010 accuracy: 99.542\n",
      "Epoch: 9 batch: 1800 loss: 0.009 accuracy: 99.572\n",
      "Epoch: 9 batch: 2400 loss: 0.002 accuracy: 99.537\n",
      "Epoch: 9 batch: 3000 loss: 0.000 accuracy: 99.510\n",
      "Epoch: 9 batch: 3600 loss: 0.001 accuracy: 99.506\n",
      "Epoch: 9 batch: 4200 loss: 0.001 accuracy: 99.490\n",
      "Epoch: 9 batch: 4800 loss: 0.001 accuracy: 99.494\n",
      "Epoch: 9 batch: 5400 loss: 0.005 accuracy: 99.478\n",
      "Epoch: 9 batch: 6000 loss: 0.000 accuracy: 99.487\n",
      "Epoch: 10 batch: 600 loss: 0.000 accuracy: 99.667\n",
      "Epoch: 10 batch: 1200 loss: 0.001 accuracy: 99.658\n",
      "Epoch: 10 batch: 1800 loss: 0.000 accuracy: 99.539\n",
      "Epoch: 10 batch: 2400 loss: 0.000 accuracy: 99.546\n",
      "Epoch: 10 batch: 3000 loss: 0.000 accuracy: 99.557\n",
      "Epoch: 10 batch: 3600 loss: 0.001 accuracy: 99.533\n",
      "Epoch: 10 batch: 4200 loss: 0.001 accuracy: 99.505\n",
      "Epoch: 10 batch: 4800 loss: 0.016 accuracy: 99.519\n",
      "Epoch: 10 batch: 5400 loss: 0.003 accuracy: 99.524\n",
      "Epoch: 10 batch: 6000 loss: 0.000 accuracy: 99.512\n",
      "total_time : 5.3487339814503985 mins\n"
     ]
    }
   ],
   "source": [
    "import time \n",
    "start_time = time.time()\n",
    "# Valiable (tackers)\n",
    "\n",
    "epochs = 10\n",
    "train_loss = []\n",
    "test_loss = []\n",
    "train_correct = []\n",
    "test_correct = []\n",
    "\n",
    "\n",
    "# For loop epochs\n",
    "for epoch in range(epochs):\n",
    "    \n",
    "    trn_corr = 0\n",
    "    tst_corr = 0\n",
    "\n",
    "    # Train \n",
    "    for batch, (X_train, y_train) in enumerate(train_loader):\n",
    "        batch += 1\n",
    "\n",
    "        y_pred = model(X_train) # Not Flatten -> CNN 2D\n",
    "        loss = criterion(y_pred,y_train)\n",
    "\n",
    "        predicted = torch.max(y_pred.data,1)[1]\n",
    "        batch_corr = (predicted == y_train).sum() #True 1/ False 0sum()\n",
    "        trn_corr += batch_corr\n",
    "\n",
    "        optimizer.zero_grad()\n",
    "        loss.backward()\n",
    "        optimizer.step()\n",
    "\n",
    "        if batch%600 == 0:\n",
    "            accuracy = trn_corr.item()*100/ (10*batch)\n",
    "            print(f'Epoch: {epoch+1} batch: {batch} loss: {loss.item():.3f} accuracy: {accuracy:.3f}')\n",
    "            # print(f\"Epoch: {epoch} Batch: {batch} Loss: {loss.item()}\")\n",
    "    \n",
    "    train_loss.append(loss)\n",
    "    train_correct.append(trn_corr)\n",
    "    # Test\n",
    "    with torch.no_grad():\n",
    "        for b, (X_test, y_test) in enumerate(test_loader):\n",
    "            y_val = model(X_test)\n",
    "\n",
    "            predicted = torch.max(y_val.data,1)[1]\n",
    "            tst_corr += (predicted == y_test).sum()\n",
    "\n",
    "        loss = criterion(y_val, y_pred)\n",
    "        test_loss.append(loss)\n",
    "        test_correct.append(tst_corr)\n",
    "    \n",
    "\n",
    "total_time = time.time() - start_time\n",
    "print(f\"total_time : {total_time/60} mins\")"
   ]
  },
  {
   "cell_type": "markdown",
   "metadata": {},
   "source": [
    "Train using CPU"
   ]
  },
  {
   "cell_type": "markdown",
   "metadata": {},
   "source": [
    "## CNN Evaluation"
   ]
  },
  {
   "cell_type": "code",
   "execution_count": 49,
   "metadata": {},
   "outputs": [
    {
     "data": {
      "text/plain": [
       "<matplotlib.legend.Legend at 0x2db6614ef70>"
      ]
     },
     "execution_count": 49,
     "metadata": {},
     "output_type": "execute_result"
    },
    {
     "data": {
      "image/png": "[encoded data removed]",
      "text/plain": [
       "<Figure size 432x288 with 1 Axes>"
      ]
     },
     "metadata": {
      "needs_background": "light"
     },
     "output_type": "display_data"
    }
   ],
   "source": [
    "train_loss_np = [ts.item() for ts in train_loss]\n",
    "test_loss_np = [ts.item() for ts in test_loss]\n",
    "plt.plot(train_loss_np, label=\"train loss\")\n",
    "plt.plot(test_loss_np, label=\"validation loss\")\n",
    "plt.title(\"Loss at Epoch\")\n",
    "plt.legend()"
   ]
  },
  {
   "cell_type": "code",
   "execution_count": 50,
   "metadata": {},
   "outputs": [
    {
     "data": {
      "text/plain": [
       "<matplotlib.legend.Legend at 0x2db66173b20>"
      ]
     },
     "execution_count": 50,
     "metadata": {},
     "output_type": "execute_result"
    },
    {
     "data": {
      "image/png": "[encoded data removed]",
      "text/plain": [
       "<Figure size 432x288 with 1 Axes>"
      ]
     },
     "metadata": {
      "needs_background": "light"
     },
     "output_type": "display_data"
    }
   ],
   "source": [
    "plt.plot([t/600 for t in train_correct], label='training accuracy')\n",
    "plt.plot([t/100 for t in test_correct], label='validation accuracy')\n",
    "plt.title('Accuracy at the end of each epoch')\n",
    "plt.legend()"
   ]
  },
  {
   "cell_type": "code",
   "execution_count": 44,
   "metadata": {},
   "outputs": [],
   "source": [
    "test_load_all = DataLoader(test_data, batch_size=10000,shuffle=False)"
   ]
  },
  {
   "cell_type": "code",
   "execution_count": 45,
   "metadata": {},
   "outputs": [],
   "source": [
    "with torch.no_grad():\n",
    "    correct = 0\n",
    "    for X_test,y_test in test_load_all:\n",
    "        y_val = model(X_test)\n",
    "        y_val = model(X_test)\n",
    "        predicted = torch.max(y_val,1)[1]\n",
    "        correct += (predicted == y_test).sum()"
   ]
  },
  {
   "cell_type": "code",
   "execution_count": 46,
   "metadata": {},
   "outputs": [
    {
     "data": {
      "text/plain": [
       "0.987"
      ]
     },
     "execution_count": 46,
     "metadata": {},
     "output_type": "execute_result"
    }
   ],
   "source": [
    "correct.item()/len(test_data)"
   ]
  },
  {
   "cell_type": "code",
   "execution_count": 51,
   "metadata": {},
   "outputs": [
    {
     "name": "stdout",
     "output_type": "stream",
     "text": [
      "[[   0    1    2    3    4    5    6    7    8    9]]\n",
      "\n",
      "[[ 971    0    0    0    0    1    2    0    1    0]\n",
      " [   0 1122    0    2    0    0    1    1    0    0]\n",
      " [   0    1 1016    1    0    0    0    4    1    0]\n",
      " [   0    1    3 1000    0    7    0    0    3    1]\n",
      " [   0    2    1    0  973    0    1    0    1    9]\n",
      " [   1    2    0    4    0  881    3    0    4   10]\n",
      " [   3    4    0    0    6    2  950    0    0    0]\n",
      " [   2    3   10    2    1    1    0 1018    2    6]\n",
      " [   2    0    1    1    0    0    1    1  959    3]\n",
      " [   1    0    1    0    2    0    0    4    3  980]]\n"
     ]
    }
   ],
   "source": [
    "# print a row of values for reference\n",
    "np.set_printoptions(formatter=dict(int=lambda x: f'{x:4}'))\n",
    "print(np.arange(10).reshape(1,10))\n",
    "print()\n",
    "\n",
    "# print the confusion matrix\n",
    "print(confusion_matrix(predicted.view(-1), y_test.view(-1)))"
   ]
  },
  {
   "cell_type": "code",
   "execution_count": 61,
   "metadata": {},
   "outputs": [
    {
     "name": "stdout",
     "output_type": "stream",
     "text": [
      "7\n"
     ]
    },
    {
     "data": {
      "text/plain": [
       "<matplotlib.image.AxesImage at 0x2db66250340>"
      ]
     },
     "execution_count": 61,
     "metadata": {},
     "output_type": "execute_result"
    },
    {
     "data": {
      "image/png": "[encoded data removed]",
      "text/plain": [
       "<Figure size 432x288 with 1 Axes>"
      ]
     },
     "metadata": {
      "needs_background": "light"
     },
     "output_type": "display_data"
    }
   ],
   "source": [
    "print(test_data[852][1])\n",
    "plt.imshow(test_data[852][0].reshape(28,28))"
   ]
  },
  {
   "cell_type": "code",
   "execution_count": 62,
   "metadata": {},
   "outputs": [],
   "source": [
    "model.eval()\n",
    "with torch.no_grad():\n",
    "    new_prediction = model(test_data[852][0].view(1,1,28,28))"
   ]
  },
  {
   "cell_type": "code",
   "execution_count": 63,
   "metadata": {},
   "outputs": [
    {
     "data": {
      "text/plain": [
       "tensor([[-39.5859, -25.5054, -20.8868, -19.0143, -21.3030, -29.2860, -50.7566,\n",
       "           0.0000, -28.6984, -22.4880]])"
      ]
     },
     "execution_count": 63,
     "metadata": {},
     "output_type": "execute_result"
    }
   ],
   "source": [
    "new_prediction"
   ]
  },
  {
   "cell_type": "code",
   "execution_count": 64,
   "metadata": {},
   "outputs": [
    {
     "data": {
      "text/plain": [
       "tensor(7)"
      ]
     },
     "execution_count": 64,
     "metadata": {},
     "output_type": "execute_result"
    }
   ],
   "source": [
    "new_prediction.argmax()"
   ]
  },
  {
   "cell_type": "code",
   "execution_count": 65,
   "metadata": {},
   "outputs": [
    {
     "data": {
      "text/plain": [
       "130"
      ]
     },
     "execution_count": 65,
     "metadata": {},
     "output_type": "execute_result"
    }
   ],
   "source": [
    "misses = np.array([])\n",
    "for i in range(len(predicted.view(-1))):\n",
    "    if predicted[i] != y_test[i]:\n",
    "        misses = np.append(misses,i).astype('int64')\n",
    "        \n",
    "# Display the number of misses\n",
    "len(misses)"
   ]
  },
  {
   "cell_type": "code",
   "execution_count": 66,
   "metadata": {},
   "outputs": [
    {
     "data": {
      "text/plain": [
       "array([ 247,  320,  321,  359,  445,  542,  582,  583,  659,  691],\n",
       "      dtype=int64)"
      ]
     },
     "execution_count": 66,
     "metadata": {},
     "output_type": "execute_result"
    }
   ],
   "source": [
    "# Display the first 10 index positions\n",
    "misses[:10]"
   ]
  },
  {
   "cell_type": "code",
   "execution_count": 67,
   "metadata": {},
   "outputs": [],
   "source": [
    "# Set up an iterator to feed batched rows\n",
    "r = 12   # row size\n",
    "row = iter(np.array_split(misses,len(misses)//r+1))"
   ]
  },
  {
   "cell_type": "code",
   "execution_count": 68,
   "metadata": {},
   "outputs": [
    {
     "name": "stdout",
     "output_type": "stream",
     "text": [
      "Index: [ 247  320  321  359  445  542  582  583  659  691  716  924]\n",
      "Label: [   4    9    2    9    6    8    8    2    2    8    1    2]\n",
      "Guess: [   6    8    7    4    0    9    2    7    7    4    7    7]\n"
     ]
    },
    {
     "data": {
      "image/png": "[encoded data removed]",
      "text/plain": [
       "<Figure size 720x288 with 1 Axes>"
      ]
     },
     "metadata": {
      "needs_background": "light"
     },
     "output_type": "display_data"
    }
   ],
   "source": [
    "nextrow = next(row)\n",
    "print(\"Index:\", nextrow)\n",
    "print(\"Label:\", y_test.index_select(0,torch.tensor(nextrow)).numpy())\n",
    "print(\"Guess:\", predicted.index_select(0,torch.tensor(nextrow)).numpy())\n",
    "\n",
    "images = X_test.index_select(0,torch.tensor(nextrow))\n",
    "im = make_grid(images, nrow=r)\n",
    "plt.figure(figsize=(10,4))\n",
    "plt.imshow(np.transpose(im.numpy(), (1, 2, 0)));"
   ]
  },
  {
   "cell_type": "code",
   "execution_count": 70,
   "metadata": {},
   "outputs": [
    {
     "data": {
      "text/plain": [
       "True"
      ]
     },
     "execution_count": 70,
     "metadata": {},
     "output_type": "execute_result"
    }
   ],
   "source": [
    "torch.cuda.is_available()"
   ]
  },
  {
   "cell_type": "code",
   "execution_count": 71,
   "metadata": {},
   "outputs": [
    {
     "data": {
      "text/plain": [
       "0"
      ]
     },
     "execution_count": 71,
     "metadata": {},
     "output_type": "execute_result"
    }
   ],
   "source": [
    "torch.cuda.current_device()"
   ]
  },
  {
   "cell_type": "code",
   "execution_count": 72,
   "metadata": {},
   "outputs": [
    {
     "data": {
      "text/plain": [
       "'GeForce GTX 1650'"
      ]
     },
     "execution_count": 72,
     "metadata": {},
     "output_type": "execute_result"
    }
   ],
   "source": [
    "torch.cuda.get_device_name(0)"
   ]
  }
 ],
 "metadata": {
  "interpreter": {
   "hash": "c60ea127845ab39f471ae99edf55192aea1c0e9b259abf6115928de9a45e59cc"
  },
  "kernelspec": {
   "display_name": "Python 3.8.0 ('pytorchenv')",
   "language": "python",
   "name": "python3"
  },
  "language_info": {
   "codemirror_mode": {
    "name": "ipython",
    "version": 3
   },
   "file_extension": ".py",
   "mimetype": "text/x-python",
   "name": "python",
   "nbconvert_exporter": "python",
   "pygments_lexer": "ipython3",
   "version": "3.8.0"
  },
  "orig_nbformat": 4
 },
 "nbformat": 4,
 "nbformat_minor": 2
}

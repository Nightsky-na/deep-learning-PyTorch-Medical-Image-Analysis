{
 "cells": [
  {
   "cell_type": "markdown",
   "metadata": {},
   "source": [
    "Understanding with data set -> MNIST\n",
    "\n",
    " -> 28 * 28 = 784 inputs \n",
    "\n",
    " -> 10 outputs\n",
    " "
   ]
  },
  {
   "cell_type": "markdown",
   "metadata": {},
   "source": [
    "# Past one: DATA"
   ]
  },
  {
   "cell_type": "code",
   "execution_count": 18,
   "metadata": {},
   "outputs": [],
   "source": [
    "import torch\n",
    "import torch.nn as nn\n",
    "import torch.nn.functional as F"
   ]
  },
  {
   "cell_type": "code",
   "execution_count": 19,
   "metadata": {},
   "outputs": [],
   "source": [
    "from torch.utils.data import DataLoader \n",
    "from torchvision import datasets, transforms"
   ]
  },
  {
   "cell_type": "code",
   "execution_count": 20,
   "metadata": {},
   "outputs": [],
   "source": [
    "import numpy as np\n",
    "import pandas as pd\n",
    "from sklearn.metrics import confusion_matrix\n",
    "import matplotlib.pyplot as plt\n",
    "%matplotlib inline"
   ]
  },
  {
   "cell_type": "code",
   "execution_count": 21,
   "metadata": {},
   "outputs": [],
   "source": [
    "# MNIST IMAGE --> Tensors "
   ]
  },
  {
   "cell_type": "code",
   "execution_count": 22,
   "metadata": {},
   "outputs": [],
   "source": [
    "transform = transforms.ToTensor()"
   ]
  },
  {
   "cell_type": "code",
   "execution_count": 23,
   "metadata": {},
   "outputs": [],
   "source": [
    "train_data = datasets.MNIST(root=\"./Data\", train=True, download=True, transform=transform)"
   ]
  },
  {
   "cell_type": "code",
   "execution_count": 24,
   "metadata": {},
   "outputs": [],
   "source": [
    "test_data = datasets.MNIST(root=\"./Data\", train=False, transform=transform)"
   ]
  },
  {
   "cell_type": "code",
   "execution_count": 25,
   "metadata": {},
   "outputs": [
    {
     "data": {
      "text/plain": [
       "Dataset MNIST\n",
       "    Number of datapoints: 60000\n",
       "    Root location: ./Data\n",
       "    Split: Train\n",
       "    StandardTransform\n",
       "Transform: ToTensor()"
      ]
     },
     "execution_count": 25,
     "metadata": {},
     "output_type": "execute_result"
    }
   ],
   "source": [
    "train_data"
   ]
  },
  {
   "cell_type": "code",
   "execution_count": 26,
   "metadata": {},
   "outputs": [
    {
     "data": {
      "text/plain": [
       "Dataset MNIST\n",
       "    Number of datapoints: 10000\n",
       "    Root location: ./Data\n",
       "    Split: Test\n",
       "    StandardTransform\n",
       "Transform: ToTensor()"
      ]
     },
     "execution_count": 26,
     "metadata": {},
     "output_type": "execute_result"
    }
   ],
   "source": [
    "test_data"
   ]
  },
  {
   "cell_type": "code",
   "execution_count": 27,
   "metadata": {},
   "outputs": [
    {
     "data": {
      "text/plain": [
       "torchvision.datasets.mnist.MNIST"
      ]
     },
     "execution_count": 27,
     "metadata": {},
     "output_type": "execute_result"
    }
   ],
   "source": [
    "type(train_data)"
   ]
  },
  {
   "cell_type": "code",
   "execution_count": 28,
   "metadata": {},
   "outputs": [
    {
     "name": "stdout",
     "output_type": "stream",
     "text": [
      "<class 'tuple'>\n"
     ]
    },
    {
     "data": {
      "text/plain": [
       "tuple"
      ]
     },
     "execution_count": 28,
     "metadata": {},
     "output_type": "execute_result"
    }
   ],
   "source": [
    "print(type(train_data[0]))\n",
    "type(train_data[0])"
   ]
  },
  {
   "cell_type": "code",
   "execution_count": 29,
   "metadata": {},
   "outputs": [
    {
     "name": "stdout",
     "output_type": "stream",
     "text": [
      "torch.Size([1, 28, 28]) 5\n"
     ]
    }
   ],
   "source": [
    "image, label = train_data[0]\n",
    "print(image.shape, label) \n",
    "# gray scale image "
   ]
  },
  {
   "cell_type": "code",
   "execution_count": 33,
   "metadata": {},
   "outputs": [
    {
     "data": {
      "text/plain": [
       "<matplotlib.image.AxesImage at 0x21964d8f880>"
      ]
     },
     "execution_count": 33,
     "metadata": {},
     "output_type": "execute_result"
    },
    {
     "data": {
      "image/png": "[encoded data removed]",
      "text/plain": [
       "<Figure size 432x288 with 1 Axes>"
      ]
     },
     "metadata": {
      "needs_background": "light"
     },
     "output_type": "display_data"
    }
   ],
   "source": [
    "plt.imshow(image.reshape((28,28)),cmap=\"gist_yarg\") #gray"
   ]
  },
  {
   "cell_type": "code",
   "execution_count": 34,
   "metadata": {},
   "outputs": [],
   "source": [
    "# Create data loader \n",
    "torch.manual_seed(42)\n",
    "\n",
    "# 0 images, 1images \n",
    "train_loader = DataLoader(train_data, batch_size=100, shuffle=True)\n",
    "\n",
    "test_loader = DataLoader(test_data, batch_size=500, shuffle=True)"
   ]
  },
  {
   "cell_type": "code",
   "execution_count": 35,
   "metadata": {},
   "outputs": [],
   "source": [
    "from torchvision.utils import make_grid\n",
    "np.set_printoptions(formatter=dict(int=lambda x:f'{x:4}')) # Formatting"
   ]
  },
  {
   "cell_type": "code",
   "execution_count": 37,
   "metadata": {},
   "outputs": [],
   "source": [
    "# First batch\n",
    "for images, labels in train_loader:\n",
    "    # 60,000 / 100 => 60times\n",
    "    break"
   ]
  },
  {
   "cell_type": "code",
   "execution_count": 38,
   "metadata": {},
   "outputs": [
    {
     "name": "stdout",
     "output_type": "stream",
     "text": [
      "torch.Size([100, 1, 28, 28])\n"
     ]
    }
   ],
   "source": [
    "print(images.shape) # 100 image "
   ]
  },
  {
   "cell_type": "code",
   "execution_count": 39,
   "metadata": {},
   "outputs": [
    {
     "data": {
      "text/plain": [
       "torch.Size([100])"
      ]
     },
     "execution_count": 39,
     "metadata": {},
     "output_type": "execute_result"
    }
   ],
   "source": [
    "labels.shape"
   ]
  },
  {
   "cell_type": "code",
   "execution_count": 40,
   "metadata": {},
   "outputs": [
    {
     "name": "stdout",
     "output_type": "stream",
     "text": [
      "Labels:  [   9    9    4    7    7    9    4    7    9    1    7    5]\n"
     ]
    },
    {
     "data": {
      "image/png": "[encoded data removed]",
      "text/plain": [
       "<Figure size 720x288 with 1 Axes>"
      ]
     },
     "metadata": {
      "needs_background": "light"
     },
     "output_type": "display_data"
    }
   ],
   "source": [
    "# Print the first 12 labels\n",
    "print('Labels: ', labels[:12].numpy())\n",
    "\n",
    "# Print the first 12 images\n",
    "im = make_grid(images[:12], nrow=12)  # the default nrow is 8\n",
    "plt.figure(figsize=(10,4))\n",
    "# We need to transpose the images from CWH to WHC\n",
    "plt.imshow(np.transpose(im.numpy(), (1, 2, 0)));"
   ]
  },
  {
   "cell_type": "markdown",
   "metadata": {},
   "source": [
    "# Part two: Model"
   ]
  },
  {
   "cell_type": "markdown",
   "metadata": {},
   "source": [
    "*1) Design model (input size, output size, forward pass)*\n",
    "\n",
    "*2) Construct loss and optimizer*\n",
    "\n",
    "*3) Training loop*\n",
    "\n",
    "*- forward pass: compute prediction*\n",
    "\n",
    "*- backward pass: gradients*\n",
    "\n",
    "*- update weights*\n",
    "\n",
    "*Done!!!*"
   ]
  },
  {
   "cell_type": "code",
   "execution_count": 41,
   "metadata": {},
   "outputs": [],
   "source": [
    "class MutilayerPercepton(nn.Module):\n",
    "    \"\"\"Some Information about MutilayerPercepton\"\"\"\n",
    "    def __init__(self, input_size = 784, output_size = 10, layer=[120,84]) -> None:\n",
    "        super(MutilayerPercepton, self).__init__()\n",
    "\n",
    "        self.fc1 = nn.Linear(input_size, layer[0])\n",
    "        self.fc2 = nn.Linear(layer[0], layer[1])\n",
    "        self.fc3 = nn.Linear(layer[1], output_size)\n",
    "\n",
    "    def forward(self, x):\n",
    "        x = F.relu(self.fc1(x))\n",
    "        x = F.relu(self.fc2(x))\n",
    "        x = self.fc3(x)\n",
    "\n",
    "        return F.log_softmax(x,dim=1) # Muti class classification"
   ]
  },
  {
   "cell_type": "code",
   "execution_count": 42,
   "metadata": {},
   "outputs": [
    {
     "data": {
      "text/plain": [
       "MutilayerPercepton(\n",
       "  (fc1): Linear(in_features=784, out_features=120, bias=True)\n",
       "  (fc2): Linear(in_features=120, out_features=84, bias=True)\n",
       "  (fc3): Linear(in_features=84, out_features=10, bias=True)\n",
       ")"
      ]
     },
     "execution_count": 42,
     "metadata": {},
     "output_type": "execute_result"
    }
   ],
   "source": [
    "torch.manual_seed(42)\n",
    "model = MutilayerPercepton()\n",
    "model"
   ]
  },
  {
   "cell_type": "code",
   "execution_count": 47,
   "metadata": {},
   "outputs": [
    {
     "name": "stdout",
     "output_type": "stream",
     "text": [
      "94080\n",
      "120\n",
      "10080\n",
      "84\n",
      "840\n",
      "10\n",
      "sum parameter : 105214 parameter\n"
     ]
    }
   ],
   "source": [
    "# ANN --> CNN\n",
    "sum_parameter = 0\n",
    "for param in model.parameters():\n",
    "    sum_parameter += param.numel()\n",
    "    print(param.numel())\n",
    "# input -> Dense -> Dense -> Out\n",
    "print(f\"sum parameter : {sum_parameter} parameter\")"
   ]
  },
  {
   "cell_type": "code",
   "execution_count": 48,
   "metadata": {},
   "outputs": [],
   "source": [
    "criterion = nn.CrossEntropyLoss()\n",
    "optimizer = torch.optim.Adam(model.parameters(), lr=0.001)"
   ]
  },
  {
   "cell_type": "code",
   "execution_count": 49,
   "metadata": {},
   "outputs": [
    {
     "data": {
      "text/plain": [
       "torch.Size([100, 1, 28, 28])"
      ]
     },
     "execution_count": 49,
     "metadata": {},
     "output_type": "execute_result"
    }
   ],
   "source": [
    "images.shape # ---> [100, 784]"
   ]
  },
  {
   "cell_type": "code",
   "execution_count": 51,
   "metadata": {},
   "outputs": [
    {
     "name": "stdout",
     "output_type": "stream",
     "text": [
      "torch.Size([100, 784])\n"
     ]
    },
    {
     "data": {
      "text/plain": [
       "tensor([[0., 0., 0.,  ..., 0., 0., 0.],\n",
       "        [0., 0., 0.,  ..., 0., 0., 0.],\n",
       "        [0., 0., 0.,  ..., 0., 0., 0.],\n",
       "        ...,\n",
       "        [0., 0., 0.,  ..., 0., 0., 0.],\n",
       "        [0., 0., 0.,  ..., 0., 0., 0.],\n",
       "        [0., 0., 0.,  ..., 0., 0., 0.]])"
      ]
     },
     "execution_count": 51,
     "metadata": {},
     "output_type": "execute_result"
    }
   ],
   "source": [
    "print(images.view(100,-1).shape)\n",
    "images.view(100,-1)\n",
    "# -1 => 1 * 28 *28 "
   ]
  },
  {
   "cell_type": "markdown",
   "metadata": {},
   "source": [
    "# Part three : Training"
   ]
  },
  {
   "cell_type": "code",
   "execution_count": 54,
   "metadata": {},
   "outputs": [
    {
     "name": "stdout",
     "output_type": "stream",
     "text": [
      "Epoch 0 batch200 loss:0.14462952315807343 accuracy: 95.435\n",
      "Epoch 0 batch400 loss:0.09354814887046814 accuracy: 95.725\n",
      "Epoch 0 batch600 loss:0.1792767494916916 accuracy: 95.885\n",
      "Epoch 1 batch200 loss:0.06854995340108871 accuracy: 96.825\n",
      "Epoch 1 batch400 loss:0.05639141425490379 accuracy: 96.9675\n",
      "Epoch 1 batch600 loss:0.10564718395471573 accuracy: 97.055\n",
      "Epoch 2 batch200 loss:0.10485707223415375 accuracy: 97.61\n",
      "Epoch 2 batch400 loss:0.10683687031269073 accuracy: 97.7275\n",
      "Epoch 2 batch600 loss:0.03789285197854042 accuracy: 97.75\n",
      "Epoch 3 batch200 loss:0.08586447685956955 accuracy: 98.26\n",
      "Epoch 3 batch400 loss:0.06300896406173706 accuracy: 98.22\n",
      "Epoch 3 batch600 loss:0.07510429620742798 accuracy: 98.185\n",
      "Epoch 4 batch200 loss:0.03313601762056351 accuracy: 98.43\n",
      "Epoch 4 batch400 loss:0.09243930876255035 accuracy: 98.505\n",
      "Epoch 4 batch600 loss:0.09940264374017715 accuracy: 98.47666666666667\n",
      "Epoch 5 batch200 loss:0.01690082810819149 accuracy: 98.81\n",
      "Epoch 5 batch400 loss:0.08224711567163467 accuracy: 98.82\n",
      "Epoch 5 batch600 loss:0.025933867320418358 accuracy: 98.775\n",
      "Epoch 6 batch200 loss:0.10041166096925735 accuracy: 99.065\n",
      "Epoch 6 batch400 loss:0.010793508030474186 accuracy: 99.035\n",
      "Epoch 6 batch600 loss:0.13012942671775818 accuracy: 99.00666666666666\n",
      "Epoch 7 batch200 loss:0.07075294852256775 accuracy: 99.28\n",
      "Epoch 7 batch400 loss:0.05156830698251724 accuracy: 99.24\n",
      "Epoch 7 batch600 loss:0.011324110440909863 accuracy: 99.17166666666667\n",
      "Epoch 8 batch200 loss:0.001469535636715591 accuracy: 99.275\n",
      "Epoch 8 batch400 loss:0.02737630531191826 accuracy: 99.3\n",
      "Epoch 8 batch600 loss:0.07671210169792175 accuracy: 99.25\n",
      "Epoch 9 batch200 loss:0.003813106333836913 accuracy: 99.375\n",
      "Epoch 9 batch400 loss:0.012484298087656498 accuracy: 99.405\n",
      "Epoch 9 batch600 loss:0.017658790573477745 accuracy: 99.37166666666667\n",
      "Duration: 1.3458138744036356 mins\n",
      "Done\n"
     ]
    }
   ],
   "source": [
    "import time \n",
    "import tqdm\n",
    "start_time = time.time()\n",
    "# Training \n",
    "epochs = 10 \n",
    "\n",
    "# Tracker \n",
    "train_losses = []\n",
    "test_losses = []\n",
    "train_correct = []\n",
    "test_correct = []\n",
    "\n",
    "for i in range(epochs):\n",
    "\n",
    "    trn_corr = 0\n",
    "    tst_corr = 0\n",
    "\n",
    "    for batch, (X_train, y_train) in enumerate(train_loader):\n",
    "        batch += 1\n",
    "\n",
    "        # 10 Neurons\n",
    "        # [0.1, 0.0, ..., 0.8] -> 0.9\n",
    "        y_pred = model(X_train.view(100,-1)) \n",
    "        loss = criterion(y_pred, y_train)\n",
    "\n",
    "        predicted = torch.max(y_pred,1)[1] #print(y_pred)\n",
    "        batch_corr = (predicted == y_train).sum()\n",
    "        trn_corr += batch_corr\n",
    "\n",
    "        optimizer.zero_grad()\n",
    "        loss.backward()\n",
    "        optimizer.step()\n",
    "\n",
    "        if batch%200 == 0:\n",
    "            accuracy = trn_corr.item()*100/ (100*batch)\n",
    "            print(f'Epoch {i} batch{batch} loss:{loss.item()} accuracy: {accuracy}')\n",
    "\n",
    "    train_losses.append(loss.item())\n",
    "    train_correct.append(trn_corr.item())\n",
    "\n",
    "    with torch.no_grad():\n",
    "        for batch, (X_test, y_test) in enumerate(test_loader):\n",
    "\n",
    "            y_val = model(X_test.view(500,-1))\n",
    "\n",
    "            predicted = torch.max(y_val,1)[1]\n",
    "            tst_corr += (predicted==y_test).sum()\n",
    "\n",
    "    loss = criterion(y_val, y_test)\n",
    "    test_losses.append(loss)\n",
    "    test_correct.append(tst_corr)\n",
    "total_time = time.time() - start_time\n",
    "\n",
    "print(f\"Duration: {total_time/60} mins\")\n",
    "print(\"Done\")"
   ]
  },
  {
   "cell_type": "markdown",
   "metadata": {},
   "source": [
    "# Part Four: Evaluation"
   ]
  },
  {
   "cell_type": "code",
   "execution_count": 59,
   "metadata": {},
   "outputs": [
    {
     "data": {
      "text/plain": [
       "<matplotlib.legend.Legend at 0x21964f296d0>"
      ]
     },
     "execution_count": 59,
     "metadata": {},
     "output_type": "execute_result"
    },
    {
     "data": {
      "image/png": "[encoded data removed]",
      "text/plain": [
       "<Figure size 432x288 with 1 Axes>"
      ]
     },
     "metadata": {
      "needs_background": "light"
     },
     "output_type": "display_data"
    }
   ],
   "source": [
    "plt.plot(train_losses, label=\"Training Loss\")\n",
    "plt.plot(test_losses, label=\"Test/validation Loss\")\n",
    "plt.legend()"
   ]
  },
  {
   "cell_type": "code",
   "execution_count": 66,
   "metadata": {},
   "outputs": [],
   "source": [
    "train_accuracy = [t/600 for t in train_correct] # 600\n",
    "test_accuracy = [t/100 for t in test_correct] # 600\n"
   ]
  },
  {
   "cell_type": "code",
   "execution_count": 68,
   "metadata": {},
   "outputs": [
    {
     "data": {
      "text/plain": [
       "<matplotlib.legend.Legend at 0x21966350ee0>"
      ]
     },
     "execution_count": 68,
     "metadata": {},
     "output_type": "execute_result"
    },
    {
     "data": {
      "image/png": "[encoded data removed]",
      "text/plain": [
       "<Figure size 432x288 with 1 Axes>"
      ]
     },
     "metadata": {
      "needs_background": "light"
     },
     "output_type": "display_data"
    }
   ],
   "source": [
    "plt.plot(train_accuracy, label=\"Train acc\")\n",
    "plt.plot(test_accuracy, label=\"Test acc\")\n",
    "plt.legend()"
   ]
  },
  {
   "cell_type": "code",
   "execution_count": 69,
   "metadata": {},
   "outputs": [],
   "source": [
    "# New unseen data\n",
    "test_load_all = DataLoader(test_data,batch_size=10000, shuffle=False)"
   ]
  },
  {
   "cell_type": "code",
   "execution_count": 70,
   "metadata": {},
   "outputs": [],
   "source": [
    "with torch.no_grad():\n",
    "    correct = 0\n",
    "\n",
    "    for X_test, y_test in test_load_all:\n",
    "        y_val = model(X_test.view(len(X_test), -1))\n",
    "        predicted = torch.max(y_val, 1)[1]\n",
    "        correct += (predicted==y_test).sum()"
   ]
  },
  {
   "cell_type": "code",
   "execution_count": 75,
   "metadata": {},
   "outputs": [
    {
     "name": "stdout",
     "output_type": "stream",
     "text": [
      "Acc for unseen data : 97.8\n"
     ]
    }
   ],
   "source": [
    "print(f'Acc for unseen data : {correct.item()/len(test_data)*100}')"
   ]
  },
  {
   "cell_type": "code",
   "execution_count": 76,
   "metadata": {},
   "outputs": [
    {
     "data": {
      "text/plain": [
       "array([[ 969,    0,    3,    0,    1,    2,    1,    1,    2,    0],\n",
       "       [   0, 1115,    0,    0,    0,    0,    2,    1,    0,    3],\n",
       "       [   0,    3, 1000,    1,    3,    0,    1,    8,    2,    0],\n",
       "       [   2,    3,   11, 1004,    1,   14,    1,    3,   15,    4],\n",
       "       [   1,    0,    1,    0,  951,    1,    3,    1,    3,    3],\n",
       "       [   1,    0,    0,    0,    0,  861,    2,    0,    1,    3],\n",
       "       [   2,    4,    2,    0,    6,    7,  943,    0,    2,    1],\n",
       "       [   0,    4,    5,    2,    3,    1,    0, 1004,    2,    3],\n",
       "       [   2,    5,   10,    2,    1,    5,    5,    3,  941,    0],\n",
       "       [   3,    1,    0,    1,   16,    1,    0,    7,    6,  992]],\n",
       "      dtype=int64)"
      ]
     },
     "execution_count": 76,
     "metadata": {},
     "output_type": "execute_result"
    }
   ],
   "source": [
    "confusion_matrix(predicted.view(-1), y_test.view(-1))"
   ]
  }
 ],
 "metadata": {
  "interpreter": {
   "hash": "c60ea127845ab39f471ae99edf55192aea1c0e9b259abf6115928de9a45e59cc"
  },
  "kernelspec": {
   "display_name": "Python 3.8.0 ('pytorchenv')",
   "language": "python",
   "name": "python3"
  },
  "language_info": {
   "codemirror_mode": {
    "name": "ipython",
    "version": 3
   },
   "file_extension": ".py",
   "mimetype": "text/x-python",
   "name": "python",
   "nbconvert_exporter": "python",
   "pygments_lexer": "ipython3",
   "version": "3.8.0"
  },
  "orig_nbformat": 4
 },
 "nbformat": 4,
 "nbformat_minor": 2
}
